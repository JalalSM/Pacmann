{
 "cells": [
  {
   "cell_type": "markdown",
   "metadata": {
    "id": "rmN-gD8MoliI"
   },
   "source": [
    "# Summary\n",
    "\n",
    "In this notebook, we will perform Exploratory Data Analysis (EDA) and Modelling in Python. Steps:\n",
    "1. Preliminary look at the data\n",
    "2. Data cleaning\n",
    "3. Data deep-dive understanding\n",
    "4. Modelling"
   ]
  },
  {
   "cell_type": "markdown",
   "metadata": {
    "id": "BwNPERmM8t3K"
   },
   "source": [
    "# Import Libraries"
   ]
  },
  {
   "cell_type": "code",
   "execution_count": 2,
   "metadata": {
    "id": "CEPVSzPl8t3K"
   },
   "outputs": [],
   "source": [
    "import numpy as np\n",
    "import pandas as pd\n",
    "import seaborn as sns\n",
    "import matplotlib.pyplot as plt"
   ]
  },
  {
   "cell_type": "markdown",
   "metadata": {
    "id": "E4mrHxIX8t3L"
   },
   "source": [
    "# Load Data"
   ]
  },
  {
   "cell_type": "code",
   "execution_count": 24,
   "metadata": {
    "id": "W7FS1Kmw8t3L"
   },
   "outputs": [],
   "source": [
    "data = pd.read_csv(\"C:/Users/jalal/Downloads/dataset1.csv\")"
   ]
  },
  {
   "cell_type": "markdown",
   "metadata": {
    "id": "RZgJ-Mpz8t3L"
   },
   "source": [
    "#  Preliminary Look and Data Cleansing"
   ]
  },
  {
   "cell_type": "markdown",
   "metadata": {
    "id": "2lOq-WJD8t3M"
   },
   "source": [
    "## Sample of data"
   ]
  },
  {
   "cell_type": "code",
   "execution_count": 26,
   "metadata": {
    "colab": {
     "base_uri": "https://localhost:8080/",
     "height": 206
    },
    "executionInfo": {
     "elapsed": 342,
     "status": "ok",
     "timestamp": 1648374149055,
     "user": {
      "displayName": "Pararawendy Indarjo",
      "photoUrl": "https://lh3.googleusercontent.com/a-/AOh14GioQ0c_uukSFDoTcJVdqexZctAqHkGZbwVqv9WxOw=s64",
      "userId": "09035664507663317723"
     },
     "user_tz": -420
    },
    "id": "pxAw-7XO8t3M",
    "outputId": "ffee595f-55a0-4308-80a1-c885c0903bba"
   },
   "outputs": [
    {
     "data": {
      "text/html": [
       "<div>\n",
       "<style scoped>\n",
       "    .dataframe tbody tr th:only-of-type {\n",
       "        vertical-align: middle;\n",
       "    }\n",
       "\n",
       "    .dataframe tbody tr th {\n",
       "        vertical-align: top;\n",
       "    }\n",
       "\n",
       "    .dataframe thead th {\n",
       "        text-align: right;\n",
       "    }\n",
       "</style>\n",
       "<table border=\"1\" class=\"dataframe\">\n",
       "  <thead>\n",
       "    <tr style=\"text-align: right;\">\n",
       "      <th></th>\n",
       "      <th>gre_score</th>\n",
       "      <th>toefl_score</th>\n",
       "      <th>univ_ranking</th>\n",
       "      <th>motiv_letter_strength</th>\n",
       "      <th>recommendation_strength</th>\n",
       "      <th>gpa</th>\n",
       "      <th>research_exp</th>\n",
       "      <th>admit_prob</th>\n",
       "    </tr>\n",
       "  </thead>\n",
       "  <tbody>\n",
       "    <tr>\n",
       "      <th>0</th>\n",
       "      <td>337.0</td>\n",
       "      <td>118.0</td>\n",
       "      <td>4.0</td>\n",
       "      <td>4.5</td>\n",
       "      <td>4.5</td>\n",
       "      <td>9.65</td>\n",
       "      <td>yes</td>\n",
       "      <td>0.92</td>\n",
       "    </tr>\n",
       "    <tr>\n",
       "      <th>1</th>\n",
       "      <td>324.0</td>\n",
       "      <td>107.0</td>\n",
       "      <td>4.0</td>\n",
       "      <td>4.0</td>\n",
       "      <td>4.5</td>\n",
       "      <td>8.87</td>\n",
       "      <td>yes</td>\n",
       "      <td>0.76</td>\n",
       "    </tr>\n",
       "    <tr>\n",
       "      <th>2</th>\n",
       "      <td>316.0</td>\n",
       "      <td>104.0</td>\n",
       "      <td>3.0</td>\n",
       "      <td>3.0</td>\n",
       "      <td>3.5</td>\n",
       "      <td>8.00</td>\n",
       "      <td>yes</td>\n",
       "      <td>0.72</td>\n",
       "    </tr>\n",
       "    <tr>\n",
       "      <th>3</th>\n",
       "      <td>322.0</td>\n",
       "      <td>110.0</td>\n",
       "      <td>3.0</td>\n",
       "      <td>3.5</td>\n",
       "      <td>2.5</td>\n",
       "      <td>8.67</td>\n",
       "      <td>yes</td>\n",
       "      <td>0.80</td>\n",
       "    </tr>\n",
       "    <tr>\n",
       "      <th>4</th>\n",
       "      <td>314.0</td>\n",
       "      <td>103.0</td>\n",
       "      <td>2.0</td>\n",
       "      <td>2.0</td>\n",
       "      <td>3.0</td>\n",
       "      <td>8.21</td>\n",
       "      <td>no</td>\n",
       "      <td>0.65</td>\n",
       "    </tr>\n",
       "  </tbody>\n",
       "</table>\n",
       "</div>"
      ],
      "text/plain": [
       "   gre_score  toefl_score  univ_ranking  motiv_letter_strength  \\\n",
       "0      337.0        118.0           4.0                    4.5   \n",
       "1      324.0        107.0           4.0                    4.0   \n",
       "2      316.0        104.0           3.0                    3.0   \n",
       "3      322.0        110.0           3.0                    3.5   \n",
       "4      314.0        103.0           2.0                    2.0   \n",
       "\n",
       "   recommendation_strength   gpa research_exp  admit_prob  \n",
       "0                      4.5  9.65          yes        0.92  \n",
       "1                      4.5  8.87          yes        0.76  \n",
       "2                      3.5  8.00          yes        0.72  \n",
       "3                      2.5  8.67          yes        0.80  \n",
       "4                      3.0  8.21           no        0.65  "
      ]
     },
     "execution_count": 26,
     "metadata": {},
     "output_type": "execute_result"
    }
   ],
   "source": [
    "# Showing top 5 rows of the data\n",
    "data.head()"
   ]
  },
  {
   "cell_type": "code",
   "execution_count": 27,
   "metadata": {
    "colab": {
     "base_uri": "https://localhost:8080/",
     "height": 206
    },
    "executionInfo": {
     "elapsed": 355,
     "status": "ok",
     "timestamp": 1648374163941,
     "user": {
      "displayName": "Pararawendy Indarjo",
      "photoUrl": "https://lh3.googleusercontent.com/a-/AOh14GioQ0c_uukSFDoTcJVdqexZctAqHkGZbwVqv9WxOw=s64",
      "userId": "09035664507663317723"
     },
     "user_tz": -420
    },
    "id": "fVGbCHd_8t3M",
    "outputId": "4d24eb36-5a6d-4cf9-ebe2-1be1c946c878"
   },
   "outputs": [
    {
     "data": {
      "text/html": [
       "<div>\n",
       "<style scoped>\n",
       "    .dataframe tbody tr th:only-of-type {\n",
       "        vertical-align: middle;\n",
       "    }\n",
       "\n",
       "    .dataframe tbody tr th {\n",
       "        vertical-align: top;\n",
       "    }\n",
       "\n",
       "    .dataframe thead th {\n",
       "        text-align: right;\n",
       "    }\n",
       "</style>\n",
       "<table border=\"1\" class=\"dataframe\">\n",
       "  <thead>\n",
       "    <tr style=\"text-align: right;\">\n",
       "      <th></th>\n",
       "      <th>gre_score</th>\n",
       "      <th>toefl_score</th>\n",
       "      <th>univ_ranking</th>\n",
       "      <th>motiv_letter_strength</th>\n",
       "      <th>recommendation_strength</th>\n",
       "      <th>gpa</th>\n",
       "      <th>research_exp</th>\n",
       "      <th>admit_prob</th>\n",
       "    </tr>\n",
       "  </thead>\n",
       "  <tbody>\n",
       "    <tr>\n",
       "      <th>35</th>\n",
       "      <td>320.0</td>\n",
       "      <td>110.0</td>\n",
       "      <td>5.0</td>\n",
       "      <td>5.0</td>\n",
       "      <td>5.0</td>\n",
       "      <td>9.20</td>\n",
       "      <td>yes</td>\n",
       "      <td>0.88</td>\n",
       "    </tr>\n",
       "    <tr>\n",
       "      <th>168</th>\n",
       "      <td>293.0</td>\n",
       "      <td>97.0</td>\n",
       "      <td>2.0</td>\n",
       "      <td>2.0</td>\n",
       "      <td>4.0</td>\n",
       "      <td>7.80</td>\n",
       "      <td>yes</td>\n",
       "      <td>0.64</td>\n",
       "    </tr>\n",
       "    <tr>\n",
       "      <th>95</th>\n",
       "      <td>304.0</td>\n",
       "      <td>100.0</td>\n",
       "      <td>4.0</td>\n",
       "      <td>1.5</td>\n",
       "      <td>2.5</td>\n",
       "      <td>7.84</td>\n",
       "      <td>no</td>\n",
       "      <td>0.42</td>\n",
       "    </tr>\n",
       "    <tr>\n",
       "      <th>309</th>\n",
       "      <td>308.0</td>\n",
       "      <td>110.0</td>\n",
       "      <td>4.0</td>\n",
       "      <td>3.5</td>\n",
       "      <td>3.0</td>\n",
       "      <td>8.60</td>\n",
       "      <td>no</td>\n",
       "      <td>0.70</td>\n",
       "    </tr>\n",
       "    <tr>\n",
       "      <th>167</th>\n",
       "      <td>313.0</td>\n",
       "      <td>102.0</td>\n",
       "      <td>3.0</td>\n",
       "      <td>2.0</td>\n",
       "      <td>3.0</td>\n",
       "      <td>8.27</td>\n",
       "      <td>no</td>\n",
       "      <td>0.64</td>\n",
       "    </tr>\n",
       "  </tbody>\n",
       "</table>\n",
       "</div>"
      ],
      "text/plain": [
       "     gre_score  toefl_score  univ_ranking  motiv_letter_strength  \\\n",
       "35       320.0        110.0           5.0                    5.0   \n",
       "168      293.0         97.0           2.0                    2.0   \n",
       "95       304.0        100.0           4.0                    1.5   \n",
       "309      308.0        110.0           4.0                    3.5   \n",
       "167      313.0        102.0           3.0                    2.0   \n",
       "\n",
       "     recommendation_strength   gpa research_exp  admit_prob  \n",
       "35                       5.0  9.20          yes        0.88  \n",
       "168                      4.0  7.80          yes        0.64  \n",
       "95                       2.5  7.84           no        0.42  \n",
       "309                      3.0  8.60           no        0.70  \n",
       "167                      3.0  8.27           no        0.64  "
      ]
     },
     "execution_count": 27,
     "metadata": {},
     "output_type": "execute_result"
    }
   ],
   "source": [
    "# sample 5 rows of the data\n",
    "# the results change everytime the code is executed (random sample)\n",
    "data.sample(5)"
   ]
  },
  {
   "cell_type": "markdown",
   "metadata": {
    "id": "ozxhuNxdpa9d"
   },
   "source": [
    "Observations:\n",
    "1. All columns, except `research_exp` column, are numeric\n",
    "2. `research_exp` column seems to contain two distinct values (yes OR no), but will confirm later\n",
    "3. No obvious defect on the data (column name vs its entries), all looks good"
   ]
  },
  {
   "cell_type": "markdown",
   "metadata": {
    "id": "DrDocuce8t3O"
   },
   "source": [
    "## General Information & Missing Values"
   ]
  },
  {
   "cell_type": "code",
   "execution_count": 28,
   "metadata": {
    "colab": {
     "base_uri": "https://localhost:8080/"
    },
    "executionInfo": {
     "elapsed": 375,
     "status": "ok",
     "timestamp": 1648374318297,
     "user": {
      "displayName": "Pararawendy Indarjo",
      "photoUrl": "https://lh3.googleusercontent.com/a-/AOh14GioQ0c_uukSFDoTcJVdqexZctAqHkGZbwVqv9WxOw=s64",
      "userId": "09035664507663317723"
     },
     "user_tz": -420
    },
    "id": "bG8e06FW8t3P",
    "outputId": "97a5ffcb-52b7-4ac7-8eca-1dfb6b23798b"
   },
   "outputs": [
    {
     "name": "stdout",
     "output_type": "stream",
     "text": [
      "<class 'pandas.core.frame.DataFrame'>\n",
      "RangeIndex: 505 entries, 0 to 504\n",
      "Data columns (total 8 columns):\n",
      " #   Column                   Non-Null Count  Dtype  \n",
      "---  ------                   --------------  -----  \n",
      " 0   gre_score                496 non-null    float64\n",
      " 1   toefl_score              497 non-null    float64\n",
      " 2   univ_ranking             498 non-null    float64\n",
      " 3   motiv_letter_strength    503 non-null    float64\n",
      " 4   recommendation_strength  499 non-null    float64\n",
      " 5   gpa                      501 non-null    float64\n",
      " 6   research_exp             505 non-null    object \n",
      " 7   admit_prob               500 non-null    float64\n",
      "dtypes: float64(7), object(1)\n",
      "memory usage: 31.7+ KB\n"
     ]
    }
   ],
   "source": [
    "data.info()"
   ]
  },
  {
   "cell_type": "markdown",
   "metadata": {
    "id": "fYb26YO78t3P"
   },
   "source": [
    "Observation:\n",
    "1. Data contains 8 columns with 505 rows\n",
    "2. Most of the columns have missing values (except `research_exp`), they will be dropped later\n",
    "3. All dtypes seem OK (appropriate), given the corresponding column name"
   ]
  },
  {
   "cell_type": "code",
   "execution_count": 30,
   "metadata": {
    "colab": {
     "base_uri": "https://localhost:8080/"
    },
    "executionInfo": {
     "elapsed": 354,
     "status": "ok",
     "timestamp": 1648374402193,
     "user": {
      "displayName": "Pararawendy Indarjo",
      "photoUrl": "https://lh3.googleusercontent.com/a-/AOh14GioQ0c_uukSFDoTcJVdqexZctAqHkGZbwVqv9WxOw=s64",
      "userId": "09035664507663317723"
     },
     "user_tz": -420
    },
    "id": "zbsdISHn8t3Q",
    "outputId": "54509957-2ad6-4be6-cc98-d2b97ccfd12b"
   },
   "outputs": [
    {
     "data": {
      "text/plain": [
       "gre_score                  9\n",
       "toefl_score                8\n",
       "univ_ranking               7\n",
       "motiv_letter_strength      2\n",
       "recommendation_strength    6\n",
       "gpa                        4\n",
       "research_exp               0\n",
       "admit_prob                 5\n",
       "dtype: int64"
      ]
     },
     "execution_count": 30,
     "metadata": {},
     "output_type": "execute_result"
    }
   ],
   "source": [
    "# number of missing values per column\n",
    "data.isna().sum()"
   ]
  },
  {
   "cell_type": "code",
   "execution_count": 31,
   "metadata": {
    "colab": {
     "base_uri": "https://localhost:8080/"
    },
    "executionInfo": {
     "elapsed": 354,
     "status": "ok",
     "timestamp": 1648374426471,
     "user": {
      "displayName": "Pararawendy Indarjo",
      "photoUrl": "https://lh3.googleusercontent.com/a-/AOh14GioQ0c_uukSFDoTcJVdqexZctAqHkGZbwVqv9WxOw=s64",
      "userId": "09035664507663317723"
     },
     "user_tz": -420
    },
    "id": "ZIL8hOxKrC7R",
    "outputId": "e9557cbf-991b-4021-f5d5-4f46effd31b4"
   },
   "outputs": [
    {
     "data": {
      "text/plain": [
       "gre_score                  1.782178\n",
       "toefl_score                1.584158\n",
       "univ_ranking               1.386139\n",
       "motiv_letter_strength      0.396040\n",
       "recommendation_strength    1.188119\n",
       "gpa                        0.792079\n",
       "research_exp               0.000000\n",
       "admit_prob                 0.990099\n",
       "dtype: float64"
      ]
     },
     "execution_count": 31,
     "metadata": {},
     "output_type": "execute_result"
    }
   ],
   "source": [
    "# percentage version\n",
    "data.isna().sum() * 100 / len(data)"
   ]
  },
  {
   "cell_type": "markdown",
   "metadata": {
    "id": "L5FF2ZKUq81B"
   },
   "source": [
    "Since number of rows with missing values are small in proportion (< 5%), we can simply drop them."
   ]
  },
  {
   "cell_type": "code",
   "execution_count": 32,
   "metadata": {
    "id": "cCZgGzFDrjkx"
   },
   "outputs": [],
   "source": [
    "# if they are significant in number we can impute them\n",
    "# Rule of thumb (not always correct, tho)\n",
    "# Numeric col --> data['column_name'].fillna(data['column_name'].median)\n",
    "# Categorical col --> data['column_name'].fillna(data['column_name'].mode)"
   ]
  },
  {
   "cell_type": "markdown",
   "metadata": {
    "id": "ntNeKh-Z8t3Q"
   },
   "source": [
    "### Drop missing values"
   ]
  },
  {
   "cell_type": "code",
   "execution_count": 35,
   "metadata": {
    "id": "jUq2DXj08t3Q"
   },
   "outputs": [],
   "source": [
    "# drop na values\n",
    "data = data.dropna()"
   ]
  },
  {
   "cell_type": "code",
   "execution_count": 36,
   "metadata": {
    "colab": {
     "base_uri": "https://localhost:8080/"
    },
    "executionInfo": {
     "elapsed": 350,
     "status": "ok",
     "timestamp": 1648374859865,
     "user": {
      "displayName": "Pararawendy Indarjo",
      "photoUrl": "https://lh3.googleusercontent.com/a-/AOh14GioQ0c_uukSFDoTcJVdqexZctAqHkGZbwVqv9WxOw=s64",
      "userId": "09035664507663317723"
     },
     "user_tz": -420
    },
    "id": "iFiE3VAS8t3Q",
    "outputId": "f6ef5f99-101a-4009-982b-e0e1c39935b8"
   },
   "outputs": [
    {
     "data": {
      "text/plain": [
       "gre_score                  0\n",
       "toefl_score                0\n",
       "univ_ranking               0\n",
       "motiv_letter_strength      0\n",
       "recommendation_strength    0\n",
       "gpa                        0\n",
       "research_exp               0\n",
       "admit_prob                 0\n",
       "dtype: int64"
      ]
     },
     "execution_count": 36,
     "metadata": {},
     "output_type": "execute_result"
    }
   ],
   "source": [
    "# sanity check\n",
    "data.isna().sum()"
   ]
  },
  {
   "cell_type": "markdown",
   "metadata": {
    "id": "6LHi4ZgN8t3R"
   },
   "source": [
    "Success removing NULL values! :)"
   ]
  },
  {
   "cell_type": "markdown",
   "metadata": {
    "id": "t1irDupa8t3R"
   },
   "source": [
    "## Duplicated data check"
   ]
  },
  {
   "cell_type": "code",
   "execution_count": 37,
   "metadata": {
    "colab": {
     "base_uri": "https://localhost:8080/"
    },
    "executionInfo": {
     "elapsed": 370,
     "status": "ok",
     "timestamp": 1648374883969,
     "user": {
      "displayName": "Pararawendy Indarjo",
      "photoUrl": "https://lh3.googleusercontent.com/a-/AOh14GioQ0c_uukSFDoTcJVdqexZctAqHkGZbwVqv9WxOw=s64",
      "userId": "09035664507663317723"
     },
     "user_tz": -420
    },
    "id": "gbJs98Gq8t3R",
    "outputId": "65378d47-adf8-4a39-a954-9b9a5c1d2e25"
   },
   "outputs": [
    {
     "data": {
      "text/plain": [
       "0"
      ]
     },
     "execution_count": 37,
     "metadata": {},
     "output_type": "execute_result"
    }
   ],
   "source": [
    "# number of duplicated data\n",
    "data.duplicated().sum()"
   ]
  },
  {
   "cell_type": "markdown",
   "metadata": {
    "id": "tPLqqIX38t3R"
   },
   "source": [
    "There is not duplicated row"
   ]
  },
  {
   "cell_type": "markdown",
   "metadata": {
    "id": "gQdjxWal8t3T"
   },
   "source": [
    "# Data understanding"
   ]
  },
  {
   "cell_type": "markdown",
   "metadata": {
    "id": "nRMnnNfY8t3T"
   },
   "source": [
    "## Statistical summary"
   ]
  },
  {
   "cell_type": "code",
   "execution_count": 40,
   "metadata": {
    "id": "MYsGPnVI8t3T"
   },
   "outputs": [],
   "source": [
    "# group column names based on type\n",
    "# it will make our life easier onwards\n",
    "categoricals = ['research_exp']\n",
    "\n",
    "numericals = ['gre_score', 'toefl_score', 'univ_ranking', 'motiv_letter_strength','recommendation_strength','gpa','admit_prob']"
   ]
  },
  {
   "cell_type": "code",
   "execution_count": 41,
   "metadata": {
    "colab": {
     "base_uri": "https://localhost:8080/",
     "height": 300
    },
    "executionInfo": {
     "elapsed": 366,
     "status": "ok",
     "timestamp": 1648374994062,
     "user": {
      "displayName": "Pararawendy Indarjo",
      "photoUrl": "https://lh3.googleusercontent.com/a-/AOh14GioQ0c_uukSFDoTcJVdqexZctAqHkGZbwVqv9WxOw=s64",
      "userId": "09035664507663317723"
     },
     "user_tz": -420
    },
    "id": "MAE1JQHS8t3T",
    "outputId": "c4789ec2-4eac-4c8c-dffc-797439c1864a"
   },
   "outputs": [
    {
     "data": {
      "text/html": [
       "<div>\n",
       "<style scoped>\n",
       "    .dataframe tbody tr th:only-of-type {\n",
       "        vertical-align: middle;\n",
       "    }\n",
       "\n",
       "    .dataframe tbody tr th {\n",
       "        vertical-align: top;\n",
       "    }\n",
       "\n",
       "    .dataframe thead th {\n",
       "        text-align: right;\n",
       "    }\n",
       "</style>\n",
       "<table border=\"1\" class=\"dataframe\">\n",
       "  <thead>\n",
       "    <tr style=\"text-align: right;\">\n",
       "      <th></th>\n",
       "      <th>gre_score</th>\n",
       "      <th>toefl_score</th>\n",
       "      <th>univ_ranking</th>\n",
       "      <th>motiv_letter_strength</th>\n",
       "      <th>recommendation_strength</th>\n",
       "      <th>gpa</th>\n",
       "      <th>admit_prob</th>\n",
       "    </tr>\n",
       "  </thead>\n",
       "  <tbody>\n",
       "    <tr>\n",
       "      <th>count</th>\n",
       "      <td>464.000000</td>\n",
       "      <td>464.000000</td>\n",
       "      <td>464.000000</td>\n",
       "      <td>464.000000</td>\n",
       "      <td>464.000000</td>\n",
       "      <td>464.000000</td>\n",
       "      <td>464.000000</td>\n",
       "    </tr>\n",
       "    <tr>\n",
       "      <th>mean</th>\n",
       "      <td>316.327586</td>\n",
       "      <td>107.090517</td>\n",
       "      <td>3.118534</td>\n",
       "      <td>3.366379</td>\n",
       "      <td>3.476293</td>\n",
       "      <td>8.567241</td>\n",
       "      <td>0.719203</td>\n",
       "    </tr>\n",
       "    <tr>\n",
       "      <th>std</th>\n",
       "      <td>11.242104</td>\n",
       "      <td>5.934888</td>\n",
       "      <td>1.119704</td>\n",
       "      <td>0.968974</td>\n",
       "      <td>0.919244</td>\n",
       "      <td>0.598476</td>\n",
       "      <td>0.140185</td>\n",
       "    </tr>\n",
       "    <tr>\n",
       "      <th>min</th>\n",
       "      <td>290.000000</td>\n",
       "      <td>92.000000</td>\n",
       "      <td>1.000000</td>\n",
       "      <td>1.000000</td>\n",
       "      <td>1.000000</td>\n",
       "      <td>6.800000</td>\n",
       "      <td>0.340000</td>\n",
       "    </tr>\n",
       "    <tr>\n",
       "      <th>25%</th>\n",
       "      <td>308.000000</td>\n",
       "      <td>103.000000</td>\n",
       "      <td>2.000000</td>\n",
       "      <td>2.500000</td>\n",
       "      <td>3.000000</td>\n",
       "      <td>8.127500</td>\n",
       "      <td>0.630000</td>\n",
       "    </tr>\n",
       "    <tr>\n",
       "      <th>50%</th>\n",
       "      <td>316.000000</td>\n",
       "      <td>107.000000</td>\n",
       "      <td>3.000000</td>\n",
       "      <td>3.500000</td>\n",
       "      <td>3.500000</td>\n",
       "      <td>8.560000</td>\n",
       "      <td>0.720000</td>\n",
       "    </tr>\n",
       "    <tr>\n",
       "      <th>75%</th>\n",
       "      <td>324.000000</td>\n",
       "      <td>111.250000</td>\n",
       "      <td>4.000000</td>\n",
       "      <td>4.000000</td>\n",
       "      <td>4.000000</td>\n",
       "      <td>9.025000</td>\n",
       "      <td>0.820000</td>\n",
       "    </tr>\n",
       "    <tr>\n",
       "      <th>max</th>\n",
       "      <td>340.000000</td>\n",
       "      <td>120.000000</td>\n",
       "      <td>5.000000</td>\n",
       "      <td>5.000000</td>\n",
       "      <td>5.000000</td>\n",
       "      <td>9.920000</td>\n",
       "      <td>0.970000</td>\n",
       "    </tr>\n",
       "  </tbody>\n",
       "</table>\n",
       "</div>"
      ],
      "text/plain": [
       "        gre_score  toefl_score  univ_ranking  motiv_letter_strength  \\\n",
       "count  464.000000   464.000000    464.000000             464.000000   \n",
       "mean   316.327586   107.090517      3.118534               3.366379   \n",
       "std     11.242104     5.934888      1.119704               0.968974   \n",
       "min    290.000000    92.000000      1.000000               1.000000   \n",
       "25%    308.000000   103.000000      2.000000               2.500000   \n",
       "50%    316.000000   107.000000      3.000000               3.500000   \n",
       "75%    324.000000   111.250000      4.000000               4.000000   \n",
       "max    340.000000   120.000000      5.000000               5.000000   \n",
       "\n",
       "       recommendation_strength         gpa  admit_prob  \n",
       "count               464.000000  464.000000  464.000000  \n",
       "mean                  3.476293    8.567241    0.719203  \n",
       "std                   0.919244    0.598476    0.140185  \n",
       "min                   1.000000    6.800000    0.340000  \n",
       "25%                   3.000000    8.127500    0.630000  \n",
       "50%                   3.500000    8.560000    0.720000  \n",
       "75%                   4.000000    9.025000    0.820000  \n",
       "max                   5.000000    9.920000    0.970000  "
      ]
     },
     "execution_count": 41,
     "metadata": {},
     "output_type": "execute_result"
    }
   ],
   "source": [
    "# numerical statistical sumary\n",
    "data[numericals].describe()"
   ]
  },
  {
   "cell_type": "markdown",
   "metadata": {
    "id": "dIh_SjOa8t3U"
   },
   "source": [
    "Observation:\n",
    "* Overall, the minimum and maximum values make sense for each column\n",
    "* `univ_ranking`, `motiv_letter_strength`, and `recommendation_strength` are discrete values with not that many unique values, no need to conclude its simmetricity either.\n",
    "* Mean ~ 50% (Median) in `gre_score`, `toefl_score`, `admit_prob`, and `gpa` ccolumn, indicating somewhat a symmetrical distribution"
   ]
  },
  {
   "cell_type": "code",
   "execution_count": 42,
   "metadata": {
    "colab": {
     "base_uri": "https://localhost:8080/",
     "height": 175
    },
    "executionInfo": {
     "elapsed": 567,
     "status": "ok",
     "timestamp": 1648375218502,
     "user": {
      "displayName": "Pararawendy Indarjo",
      "photoUrl": "https://lh3.googleusercontent.com/a-/AOh14GioQ0c_uukSFDoTcJVdqexZctAqHkGZbwVqv9WxOw=s64",
      "userId": "09035664507663317723"
     },
     "user_tz": -420
    },
    "id": "0kH7ogc28t3U",
    "outputId": "70c20b68-b435-44aa-828f-514c0fcb0261"
   },
   "outputs": [
    {
     "data": {
      "text/html": [
       "<div>\n",
       "<style scoped>\n",
       "    .dataframe tbody tr th:only-of-type {\n",
       "        vertical-align: middle;\n",
       "    }\n",
       "\n",
       "    .dataframe tbody tr th {\n",
       "        vertical-align: top;\n",
       "    }\n",
       "\n",
       "    .dataframe thead th {\n",
       "        text-align: right;\n",
       "    }\n",
       "</style>\n",
       "<table border=\"1\" class=\"dataframe\">\n",
       "  <thead>\n",
       "    <tr style=\"text-align: right;\">\n",
       "      <th></th>\n",
       "      <th>research_exp</th>\n",
       "    </tr>\n",
       "  </thead>\n",
       "  <tbody>\n",
       "    <tr>\n",
       "      <th>count</th>\n",
       "      <td>464</td>\n",
       "    </tr>\n",
       "    <tr>\n",
       "      <th>unique</th>\n",
       "      <td>2</td>\n",
       "    </tr>\n",
       "    <tr>\n",
       "      <th>top</th>\n",
       "      <td>yes</td>\n",
       "    </tr>\n",
       "    <tr>\n",
       "      <th>freq</th>\n",
       "      <td>252</td>\n",
       "    </tr>\n",
       "  </tbody>\n",
       "</table>\n",
       "</div>"
      ],
      "text/plain": [
       "       research_exp\n",
       "count           464\n",
       "unique            2\n",
       "top             yes\n",
       "freq            252"
      ]
     },
     "execution_count": 42,
     "metadata": {},
     "output_type": "execute_result"
    }
   ],
   "source": [
    "# describe method on categorical data\n",
    "data[categoricals].describe()"
   ]
  },
  {
   "cell_type": "markdown",
   "metadata": {
    "id": "2EQpnaxF8t3U"
   },
   "source": [
    "Observations:\n",
    "* `research_exp` have 2 unique value, 'yes', and 'no'\n",
    "* student most have research_exp (252 rows), and the rest have no research experience."
   ]
  },
  {
   "cell_type": "code",
   "execution_count": 44,
   "metadata": {
    "colab": {
     "base_uri": "https://localhost:8080/"
    },
    "executionInfo": {
     "elapsed": 358,
     "status": "ok",
     "timestamp": 1648375236158,
     "user": {
      "displayName": "Pararawendy Indarjo",
      "photoUrl": "https://lh3.googleusercontent.com/a-/AOh14GioQ0c_uukSFDoTcJVdqexZctAqHkGZbwVqv9WxOw=s64",
      "userId": "09035664507663317723"
     },
     "user_tz": -420
    },
    "id": "1vb9neyQ8t3V",
    "outputId": "da7d6d14-1bc7-48bd-8c0e-807ee2b16065"
   },
   "outputs": [
    {
     "name": "stdout",
     "output_type": "stream",
     "text": [
      "Value counts of research_exp column\n",
      "yes    252\n",
      "no     212\n",
      "Name: research_exp, dtype: int64 \n",
      "\n"
     ]
    }
   ],
   "source": [
    "# showing the precise value counts\n",
    "# this code is especially useful if we have many categorical columns\n",
    "for col in categoricals:\n",
    "  print(f\"Value counts of {col} column\")\n",
    "  print(data[col].value_counts(), '\\n')"
   ]
  },
  {
   "cell_type": "markdown",
   "metadata": {
    "id": "vtB7W3w48t3V"
   },
   "source": [
    "# Univariate Analysis"
   ]
  },
  {
   "cell_type": "markdown",
   "metadata": {
    "id": "GCBgKl2I8t3V"
   },
   "source": [
    "## Boxplot to detect outliers"
   ]
  },
  {
   "cell_type": "code",
   "execution_count": 46,
   "metadata": {
    "colab": {
     "base_uri": "https://localhost:8080/",
     "height": 441
    },
    "executionInfo": {
     "elapsed": 1713,
     "status": "ok",
     "timestamp": 1648375375107,
     "user": {
      "displayName": "Pararawendy Indarjo",
      "photoUrl": "https://lh3.googleusercontent.com/a-/AOh14GioQ0c_uukSFDoTcJVdqexZctAqHkGZbwVqv9WxOw=s64",
      "userId": "09035664507663317723"
     },
     "user_tz": -420
    },
    "id": "p2rFbKJF8t3W",
    "outputId": "0aa509f1-683e-4e1a-a220-212c1efe15fb"
   },
   "outputs": [
    {
     "data": {
      "image/png": "[encoded data removed]",
      "text/plain": [
       "<Figure size 864x432 with 7 Axes>"
      ]
     },
     "metadata": {
      "needs_background": "light"
     },
     "output_type": "display_data"
    }
   ],
   "source": [
    "# adjust the figure size for better readability\n",
    "plt.figure(figsize=(12,6))\n",
    "\n",
    "# plotting\n",
    "features = numericals\n",
    "for i in range(0, len(features)):\n",
    "    plt.subplot(1, len(features), i+1)\n",
    "    sns.boxplot(y=data[features[i]], color='tab:blue')\n",
    "    plt.tight_layout()"
   ]
  },
  {
   "cell_type": "code",
   "execution_count": 47,
   "metadata": {
    "colab": {
     "base_uri": "https://localhost:8080/",
     "height": 80
    },
    "executionInfo": {
     "elapsed": 340,
     "status": "ok",
     "timestamp": 1648375509152,
     "user": {
      "displayName": "Pararawendy Indarjo",
      "photoUrl": "https://lh3.googleusercontent.com/a-/AOh14GioQ0c_uukSFDoTcJVdqexZctAqHkGZbwVqv9WxOw=s64",
      "userId": "09035664507663317723"
     },
     "user_tz": -420
    },
    "id": "UCg4izCS-ppk",
    "outputId": "48ffc2f8-0999-4b9c-c136-e9a046e79570"
   },
   "outputs": [
    {
     "data": {
      "text/html": [
       "<div>\n",
       "<style scoped>\n",
       "    .dataframe tbody tr th:only-of-type {\n",
       "        vertical-align: middle;\n",
       "    }\n",
       "\n",
       "    .dataframe tbody tr th {\n",
       "        vertical-align: top;\n",
       "    }\n",
       "\n",
       "    .dataframe thead th {\n",
       "        text-align: right;\n",
       "    }\n",
       "</style>\n",
       "<table border=\"1\" class=\"dataframe\">\n",
       "  <thead>\n",
       "    <tr style=\"text-align: right;\">\n",
       "      <th></th>\n",
       "      <th>gre_score</th>\n",
       "      <th>toefl_score</th>\n",
       "      <th>univ_ranking</th>\n",
       "      <th>motiv_letter_strength</th>\n",
       "      <th>recommendation_strength</th>\n",
       "      <th>gpa</th>\n",
       "      <th>research_exp</th>\n",
       "      <th>admit_prob</th>\n",
       "    </tr>\n",
       "  </thead>\n",
       "  <tbody>\n",
       "    <tr>\n",
       "      <th>347</th>\n",
       "      <td>299.0</td>\n",
       "      <td>94.0</td>\n",
       "      <td>1.0</td>\n",
       "      <td>1.0</td>\n",
       "      <td>1.0</td>\n",
       "      <td>7.34</td>\n",
       "      <td>no</td>\n",
       "      <td>0.42</td>\n",
       "    </tr>\n",
       "  </tbody>\n",
       "</table>\n",
       "</div>"
      ],
      "text/plain": [
       "     gre_score  toefl_score  univ_ranking  motiv_letter_strength  \\\n",
       "347      299.0         94.0           1.0                    1.0   \n",
       "\n",
       "     recommendation_strength   gpa research_exp  admit_prob  \n",
       "347                      1.0  7.34           no        0.42  "
      ]
     },
     "execution_count": 47,
     "metadata": {},
     "output_type": "execute_result"
    }
   ],
   "source": [
    "outlier = data['recommendation_strength'].min()\n",
    "\n",
    "data[data['recommendation_strength'] == outlier]"
   ]
  },
  {
   "cell_type": "markdown",
   "metadata": {
    "id": "J1zEoc0V8t3W"
   },
   "source": [
    "Obervation:\n",
    "1. There is one outlier in the `recommendation_strength` column (value = 1)\n",
    "2. But the value is still reasonable (NOT that extreme), hence no need to handle speficically"
   ]
  },
  {
   "cell_type": "markdown",
   "metadata": {
    "id": "t1oCCCY88t3W"
   },
   "source": [
    "## KDE plot for knowing the distribution form"
   ]
  },
  {
   "cell_type": "code",
   "execution_count": 48,
   "metadata": {
    "colab": {
     "base_uri": "https://localhost:8080/",
     "height": 711
    },
    "executionInfo": {
     "elapsed": 2850,
     "status": "ok",
     "timestamp": 1648375550285,
     "user": {
      "displayName": "Pararawendy Indarjo",
      "photoUrl": "https://lh3.googleusercontent.com/a-/AOh14GioQ0c_uukSFDoTcJVdqexZctAqHkGZbwVqv9WxOw=s64",
      "userId": "09035664507663317723"
     },
     "user_tz": -420
    },
    "id": "eLz3Bmso8t3W",
    "outputId": "e5330c26-17bf-41f2-b089-dc3de7aaf6b5"
   },
   "outputs": [
    {
     "name": "stderr",
     "output_type": "stream",
     "text": [
      "C:\\Users\\jalal\\AppData\\Local\\Programs\\Python\\Python39\\lib\\site-packages\\seaborn\\distributions.py:2619: FutureWarning: `distplot` is a deprecated function and will be removed in a future version. Please adapt your code to use either `displot` (a figure-level function with similar flexibility) or `histplot` (an axes-level function for histograms).\n",
      "  warnings.warn(msg, FutureWarning)\n",
      "C:\\Users\\jalal\\AppData\\Local\\Programs\\Python\\Python39\\lib\\site-packages\\seaborn\\distributions.py:2619: FutureWarning: `distplot` is a deprecated function and will be removed in a future version. Please adapt your code to use either `displot` (a figure-level function with similar flexibility) or `histplot` (an axes-level function for histograms).\n",
      "  warnings.warn(msg, FutureWarning)\n",
      "C:\\Users\\jalal\\AppData\\Local\\Programs\\Python\\Python39\\lib\\site-packages\\seaborn\\distributions.py:2619: FutureWarning: `distplot` is a deprecated function and will be removed in a future version. Please adapt your code to use either `displot` (a figure-level function with similar flexibility) or `histplot` (an axes-level function for histograms).\n",
      "  warnings.warn(msg, FutureWarning)\n",
      "C:\\Users\\jalal\\AppData\\Local\\Programs\\Python\\Python39\\lib\\site-packages\\seaborn\\distributions.py:2619: FutureWarning: `distplot` is a deprecated function and will be removed in a future version. Please adapt your code to use either `displot` (a figure-level function with similar flexibility) or `histplot` (an axes-level function for histograms).\n",
      "  warnings.warn(msg, FutureWarning)\n",
      "C:\\Users\\jalal\\AppData\\Local\\Programs\\Python\\Python39\\lib\\site-packages\\seaborn\\distributions.py:2619: FutureWarning: `distplot` is a deprecated function and will be removed in a future version. Please adapt your code to use either `displot` (a figure-level function with similar flexibility) or `histplot` (an axes-level function for histograms).\n",
      "  warnings.warn(msg, FutureWarning)\n",
      "C:\\Users\\jalal\\AppData\\Local\\Programs\\Python\\Python39\\lib\\site-packages\\seaborn\\distributions.py:2619: FutureWarning: `distplot` is a deprecated function and will be removed in a future version. Please adapt your code to use either `displot` (a figure-level function with similar flexibility) or `histplot` (an axes-level function for histograms).\n",
      "  warnings.warn(msg, FutureWarning)\n",
      "C:\\Users\\jalal\\AppData\\Local\\Programs\\Python\\Python39\\lib\\site-packages\\seaborn\\distributions.py:2619: FutureWarning: `distplot` is a deprecated function and will be removed in a future version. Please adapt your code to use either `displot` (a figure-level function with similar flexibility) or `histplot` (an axes-level function for histograms).\n",
      "  warnings.warn(msg, FutureWarning)\n"
     ]
    },
    {
     "data": {
      "image/png": "[encoded data removed]",
      "text/plain": [
       "<Figure size 864x432 with 7 Axes>"
      ]
     },
     "metadata": {
      "needs_background": "light"
     },
     "output_type": "display_data"
    }
   ],
   "source": [
    "# adjust the figure size for better readability\n",
    "plt.figure(figsize=(12,6))\n",
    "\n",
    "features = numericals\n",
    "for i in range(0, len(features)):\n",
    "    plt.subplot(2, len(features)//2 + 1, i+1)\n",
    "    #plt.subplot(1, len(features), i+1)\n",
    "    sns.distplot(x=data[features[i]], color='skyblue')\n",
    "    plt.xlabel(features[i])\n",
    "    plt.tight_layout()"
   ]
  },
  {
   "cell_type": "markdown",
   "metadata": {
    "id": "JiditOu08t3X"
   },
   "source": [
    "Observation:\n",
    "1. We can ignore interpreting feature columns with limited discrete values such as `univ_ranking`, `motiv_letter_strength`, and `recommendation_strength` \n",
    "2. The true continuous numeric features: `gre_score`, `toefl_score`, `admit_prob`, and `gpa` are somewhat symmetric, which  is good (no need to transform them to approximate normal distribution)"
   ]
  },
  {
   "cell_type": "markdown",
   "metadata": {
    "id": "Ytbv2oJN5TtH"
   },
   "source": [
    "# Bivariate Analysis"
   ]
  },
  {
   "cell_type": "code",
   "execution_count": 49,
   "metadata": {
    "colab": {
     "base_uri": "https://localhost:8080/",
     "height": 206
    },
    "executionInfo": {
     "elapsed": 404,
     "status": "ok",
     "timestamp": 1648375756071,
     "user": {
      "displayName": "Pararawendy Indarjo",
      "photoUrl": "https://lh3.googleusercontent.com/a-/AOh14GioQ0c_uukSFDoTcJVdqexZctAqHkGZbwVqv9WxOw=s64",
      "userId": "09035664507663317723"
     },
     "user_tz": -420
    },
    "id": "E9QQXQ09dAJM",
    "outputId": "ef08421b-a7d3-453e-86e7-69c8e3e5e282"
   },
   "outputs": [
    {
     "data": {
      "text/html": [
       "<div>\n",
       "<style scoped>\n",
       "    .dataframe tbody tr th:only-of-type {\n",
       "        vertical-align: middle;\n",
       "    }\n",
       "\n",
       "    .dataframe tbody tr th {\n",
       "        vertical-align: top;\n",
       "    }\n",
       "\n",
       "    .dataframe thead th {\n",
       "        text-align: right;\n",
       "    }\n",
       "</style>\n",
       "<table border=\"1\" class=\"dataframe\">\n",
       "  <thead>\n",
       "    <tr style=\"text-align: right;\">\n",
       "      <th></th>\n",
       "      <th>gre_score</th>\n",
       "      <th>toefl_score</th>\n",
       "      <th>univ_ranking</th>\n",
       "      <th>motiv_letter_strength</th>\n",
       "      <th>recommendation_strength</th>\n",
       "      <th>gpa</th>\n",
       "      <th>research_exp</th>\n",
       "      <th>admit_prob</th>\n",
       "    </tr>\n",
       "  </thead>\n",
       "  <tbody>\n",
       "    <tr>\n",
       "      <th>0</th>\n",
       "      <td>337.0</td>\n",
       "      <td>118.0</td>\n",
       "      <td>4.0</td>\n",
       "      <td>4.5</td>\n",
       "      <td>4.5</td>\n",
       "      <td>9.65</td>\n",
       "      <td>yes</td>\n",
       "      <td>0.92</td>\n",
       "    </tr>\n",
       "    <tr>\n",
       "      <th>1</th>\n",
       "      <td>324.0</td>\n",
       "      <td>107.0</td>\n",
       "      <td>4.0</td>\n",
       "      <td>4.0</td>\n",
       "      <td>4.5</td>\n",
       "      <td>8.87</td>\n",
       "      <td>yes</td>\n",
       "      <td>0.76</td>\n",
       "    </tr>\n",
       "    <tr>\n",
       "      <th>2</th>\n",
       "      <td>316.0</td>\n",
       "      <td>104.0</td>\n",
       "      <td>3.0</td>\n",
       "      <td>3.0</td>\n",
       "      <td>3.5</td>\n",
       "      <td>8.00</td>\n",
       "      <td>yes</td>\n",
       "      <td>0.72</td>\n",
       "    </tr>\n",
       "    <tr>\n",
       "      <th>3</th>\n",
       "      <td>322.0</td>\n",
       "      <td>110.0</td>\n",
       "      <td>3.0</td>\n",
       "      <td>3.5</td>\n",
       "      <td>2.5</td>\n",
       "      <td>8.67</td>\n",
       "      <td>yes</td>\n",
       "      <td>0.80</td>\n",
       "    </tr>\n",
       "    <tr>\n",
       "      <th>4</th>\n",
       "      <td>314.0</td>\n",
       "      <td>103.0</td>\n",
       "      <td>2.0</td>\n",
       "      <td>2.0</td>\n",
       "      <td>3.0</td>\n",
       "      <td>8.21</td>\n",
       "      <td>no</td>\n",
       "      <td>0.65</td>\n",
       "    </tr>\n",
       "  </tbody>\n",
       "</table>\n",
       "</div>"
      ],
      "text/plain": [
       "   gre_score  toefl_score  univ_ranking  motiv_letter_strength  \\\n",
       "0      337.0        118.0           4.0                    4.5   \n",
       "1      324.0        107.0           4.0                    4.0   \n",
       "2      316.0        104.0           3.0                    3.0   \n",
       "3      322.0        110.0           3.0                    3.5   \n",
       "4      314.0        103.0           2.0                    2.0   \n",
       "\n",
       "   recommendation_strength   gpa research_exp  admit_prob  \n",
       "0                      4.5  9.65          yes        0.92  \n",
       "1                      4.5  8.87          yes        0.76  \n",
       "2                      3.5  8.00          yes        0.72  \n",
       "3                      2.5  8.67          yes        0.80  \n",
       "4                      3.0  8.21           no        0.65  "
      ]
     },
     "execution_count": 49,
     "metadata": {},
     "output_type": "execute_result"
    }
   ],
   "source": [
    "# remember the dataset\n",
    "data.head()"
   ]
  },
  {
   "cell_type": "code",
   "execution_count": 52,
   "metadata": {
    "colab": {
     "base_uri": "https://localhost:8080/",
     "height": 298
    },
    "executionInfo": {
     "elapsed": 354,
     "status": "ok",
     "timestamp": 1648375824001,
     "user": {
      "displayName": "Pararawendy Indarjo",
      "photoUrl": "https://lh3.googleusercontent.com/a-/AOh14GioQ0c_uukSFDoTcJVdqexZctAqHkGZbwVqv9WxOw=s64",
      "userId": "09035664507663317723"
     },
     "user_tz": -420
    },
    "id": "SnpIuYDYdcrs",
    "outputId": "7bbf58c1-1abb-4635-aa6d-7ff918fa5f2c"
   },
   "outputs": [
    {
     "data": {
      "text/plain": [
       "<AxesSubplot:xlabel='admit_prob', ylabel='research_exp'>"
      ]
     },
     "execution_count": 52,
     "metadata": {},
     "output_type": "execute_result"
    },
    {
     "data": {
      "image/png": "[encoded data removed]",
      "text/plain": [
       "<Figure size 432x288 with 1 Axes>"
      ]
     },
     "metadata": {
      "needs_background": "light"
     },
     "output_type": "display_data"
    }
   ],
   "source": [
    "# research_exp affect admit_prob?\n",
    "sns.boxplot(data=data,\n",
    "            x='admit_prob',\n",
    "            y='research_exp')"
   ]
  },
  {
   "cell_type": "markdown",
   "metadata": {
    "id": "77UhO-cNe2Bc"
   },
   "source": [
    "From the grap above, we can say that applicants with research experience is more likely to be admitted."
   ]
  },
  {
   "cell_type": "code",
   "execution_count": 53,
   "metadata": {
    "colab": {
     "base_uri": "https://localhost:8080/",
     "height": 409
    },
    "executionInfo": {
     "elapsed": 1271,
     "status": "ok",
     "timestamp": 1648375924667,
     "user": {
      "displayName": "Pararawendy Indarjo",
      "photoUrl": "https://lh3.googleusercontent.com/a-/AOh14GioQ0c_uukSFDoTcJVdqexZctAqHkGZbwVqv9WxOw=s64",
      "userId": "09035664507663317723"
     },
     "user_tz": -420
    },
    "id": "9i32dJ3nhEfD",
    "outputId": "d2d8eed1-f850-41e0-9931-079a4c894a37"
   },
   "outputs": [
    {
     "data": {
      "text/plain": [
       "<AxesSubplot:>"
      ]
     },
     "execution_count": 53,
     "metadata": {},
     "output_type": "execute_result"
    },
    {
     "data": {
      "image/png": "[encoded data removed]",
      "text/plain": [
       "<Figure size 432x288 with 2 Axes>"
      ]
     },
     "metadata": {
      "needs_background": "light"
     },
     "output_type": "display_data"
    }
   ],
   "source": [
    "# correlation heatmap\n",
    "correlation = data.corr()\n",
    "sns.heatmap(correlation, annot=True, fmt='.2f')"
   ]
  },
  {
   "cell_type": "markdown",
   "metadata": {
    "id": "k8nlflBdnbEX"
   },
   "source": [
    "1. `toefl_score`, `gre_score`, and `gpa` are highly correlated each other\n",
    "2. choose either of them for modelling because they are redundant"
   ]
  },
  {
   "cell_type": "markdown",
   "metadata": {
    "id": "jX9UeGvH1sve",
    "jp-MarkdownHeadingCollapsed": true,
    "tags": []
   },
   "source": [
    "# EDA Conclusion\n",
    "1. The data does not contain major issues. There are only some NULL values and duplicated rows. We've handled them accordingly.\n",
    "2. Overall, the minimum and maximum values make sense for each column.\n",
    "3. Most of the columns with continuous numerical values are somewhat symmetric already.\n",
    "4. From the boxplot we can see outlier in `recommendation_strength` column. But it makes sense, because the min and max value are 1 and 5, the outlier is at \"1\", and it's possible (no need to drop)\n",
    "5. From boxplot of `admit_prob` and `research_exp` column,  We can say that, applicants with research experience is more likely to be admitted.\n",
    "6. From correlation heatmap: We can see that `gre_score` is correlated with `gpa` and `toefl_score`. We can choose either of them for modelling."
   ]
  },
  {
   "cell_type": "markdown",
   "metadata": {
    "id": "qE0LUifaaOoO"
   },
   "source": [
    "# Modelling"
   ]
  },
  {
   "cell_type": "code",
   "execution_count": 64,
   "metadata": {
    "id": "qE0LUifaaOoO"
   },
   "outputs": [
    {
     "name": "stderr",
     "output_type": "stream",
     "text": [
      "C:\\Users\\jalal\\AppData\\Local\\Temp\\ipykernel_53060\\1857286501.py:5: SettingWithCopyWarning: \n",
      "A value is trying to be set on a copy of a slice from a DataFrame.\n",
      "Try using .loc[row_indexer,col_indexer] = value instead\n",
      "\n",
      "See the caveats in the documentation: https://pandas.pydata.org/pandas-docs/stable/user_guide/indexing.html#returning-a-view-versus-a-copy\n",
      "  data.replace({'research_exp':{'yes':1,'no':0}},inplace=True )\n"
     ]
    }
   ],
   "source": [
    "# split train test\n",
    "from sklearn.model_selection import train_test_split\n",
    "\n",
    "\n",
    "data.replace({'research_exp':{'yes':1,'no':0}},inplace=True )\n",
    "feature = data.drop(columns='admit_prob')\n",
    "target = data[['admit_prob']]\n",
    "\n",
    "feature_admit_train, feature_admit_test, target_admit_train, target_admit_test = train_test_split(feature, target, test_size=0.20, random_state=42)"
   ]
  },
  {
   "cell_type": "markdown",
   "metadata": {
    "id": "p-58UscgkAaf"
   },
   "source": [
    "### Multicollinearity Study"
   ]
  },
  {
   "cell_type": "markdown",
   "metadata": {
    "colab": {
     "base_uri": "https://localhost:8080/",
     "height": 325
    },
    "id": "FHzRqUxiTCJW",
    "outputId": "cb1e1db8-4d46-4da2-ecfd-ab56e24af755"
   },
   "source": [
    "Variance Inflation Factor\n",
    "- Multicollinearity: when two or more features/predictors are highly correlated with each other\n",
    "- This can cause coefficients of estimates become unreliable\n",
    "- i.e. little change in the training data leads to completely different learned coefficients\n",
    "- We can detect this by computing Variance Inflation Factor (VIF) for each feature"
   ]
  },
  {
   "cell_type": "markdown",
   "metadata": {
    "colab": {
     "base_uri": "https://localhost:8080/",
     "height": 325
    },
    "id": "FHzRqUxiTCJW",
    "outputId": "cb1e1db8-4d46-4da2-ecfd-ab56e24af755"
   },
   "source": [
    "- On a high level: VIF feature j will be high if j can be predicted using the rest of other\n",
    "features. Vice versa\n",
    "- VIF == 1 → No multicollinearity\n",
    "- VIF between 4 and 10 → Moderate multicollinearity\n",
    "- VIF > 10 → Severe multicollinearity"
   ]
  },
  {
   "cell_type": "code",
   "execution_count": 66,
   "metadata": {
    "colab": {
     "base_uri": "https://localhost:8080/",
     "height": 325
    },
    "id": "FHzRqUxiTCJW",
    "outputId": "cb1e1db8-4d46-4da2-ecfd-ab56e24af755"
   },
   "outputs": [
    {
     "data": {
      "text/html": [
       "<div>\n",
       "<style scoped>\n",
       "    .dataframe tbody tr th:only-of-type {\n",
       "        vertical-align: middle;\n",
       "    }\n",
       "\n",
       "    .dataframe tbody tr th {\n",
       "        vertical-align: top;\n",
       "    }\n",
       "\n",
       "    .dataframe thead th {\n",
       "        text-align: right;\n",
       "    }\n",
       "</style>\n",
       "<table border=\"1\" class=\"dataframe\">\n",
       "  <thead>\n",
       "    <tr style=\"text-align: right;\">\n",
       "      <th></th>\n",
       "      <th>feature</th>\n",
       "      <th>vif_score</th>\n",
       "    </tr>\n",
       "  </thead>\n",
       "  <tbody>\n",
       "    <tr>\n",
       "      <th>1</th>\n",
       "      <td>gre_score</td>\n",
       "      <td>4.176649</td>\n",
       "    </tr>\n",
       "    <tr>\n",
       "      <th>2</th>\n",
       "      <td>toefl_score</td>\n",
       "      <td>3.822985</td>\n",
       "    </tr>\n",
       "    <tr>\n",
       "      <th>3</th>\n",
       "      <td>univ_ranking</td>\n",
       "      <td>2.646590</td>\n",
       "    </tr>\n",
       "    <tr>\n",
       "      <th>4</th>\n",
       "      <td>motiv_letter_strength</td>\n",
       "      <td>2.863134</td>\n",
       "    </tr>\n",
       "    <tr>\n",
       "      <th>5</th>\n",
       "      <td>recommendation_strength</td>\n",
       "      <td>2.177612</td>\n",
       "    </tr>\n",
       "    <tr>\n",
       "      <th>6</th>\n",
       "      <td>gpa</td>\n",
       "      <td>4.743525</td>\n",
       "    </tr>\n",
       "    <tr>\n",
       "      <th>7</th>\n",
       "      <td>research_exp</td>\n",
       "      <td>1.518018</td>\n",
       "    </tr>\n",
       "  </tbody>\n",
       "</table>\n",
       "</div>"
      ],
      "text/plain": [
       "                   feature  vif_score\n",
       "1                gre_score   4.176649\n",
       "2              toefl_score   3.822985\n",
       "3             univ_ranking   2.646590\n",
       "4    motiv_letter_strength   2.863134\n",
       "5  recommendation_strength   2.177612\n",
       "6                      gpa   4.743525\n",
       "7             research_exp   1.518018"
      ]
     },
     "execution_count": 66,
     "metadata": {},
     "output_type": "execute_result"
    }
   ],
   "source": [
    "# calculate VIF scores for each feature\n",
    "from statsmodels.stats.outliers_influence import variance_inflation_factor as vif \n",
    "from statsmodels.tools.tools import add_constant\n",
    "\n",
    "X = add_constant(feature_admit_train)\n",
    "\n",
    "vif_df = pd.DataFrame([vif(X.values, i) \n",
    "               for i in range(X.shape[1])], \n",
    "              index=X.columns).reset_index()\n",
    "vif_df.columns = ['feature','vif_score']\n",
    "vif_df = vif_df.loc[vif_df.feature!='const']\n",
    "vif_df"
   ]
  },
  {
   "cell_type": "code",
   "execution_count": 67,
   "metadata": {
    "colab": {
     "base_uri": "https://localhost:8080/",
     "height": 554
    },
    "id": "fZGXT04UXoVn",
    "outputId": "9c01d42c-bd12-471f-ea0c-7d84ca5ccab7"
   },
   "outputs": [
    {
     "data": {
      "image/png": "[encoded data removed]",
      "text/plain": [
       "<Figure size 720x504 with 2 Axes>"
      ]
     },
     "metadata": {
      "needs_background": "light"
     },
     "output_type": "display_data"
    }
   ],
   "source": [
    "# heatmap correlation\n",
    "admit_train = pd.concat([feature_admit_train, target_admit_train], axis=1)\n",
    "corr = admit_train.corr()\n",
    "\n",
    "plt.figure(figsize=(10,7))\n",
    "sns.heatmap(corr, annot=True, fmt='.2f')\n",
    "plt.show()"
   ]
  },
  {
   "cell_type": "markdown",
   "metadata": {
    "id": "H2BOiJJZcqei"
   },
   "source": [
    "- We found that gre_score, toefl_score, and gpa are highly correlated each other\n",
    "- We decide to include only gpa to represent these three features Because it is the most correlated with the target variable"
   ]
  },
  {
   "cell_type": "markdown",
   "metadata": {
    "id": "H2BOiJJZcqei"
   },
   "source": [
    "Need to drop:\n",
    "* gre_score\n",
    "* toefl_score"
   ]
  },
  {
   "cell_type": "code",
   "execution_count": 68,
   "metadata": {
    "id": "oDZsx2y6ZcJZ"
   },
   "outputs": [],
   "source": [
    "feature_admit_train = feature_admit_train.drop(columns=['gre_score','toefl_score']) \n",
    "feature_admit_test = feature_admit_test.drop(columns=['gre_score','toefl_score'])"
   ]
  },
  {
   "cell_type": "markdown",
   "metadata": {
    "id": "zoA6xynHgFBK"
   },
   "source": [
    "### Recheck VIF"
   ]
  },
  {
   "cell_type": "code",
   "execution_count": 69,
   "metadata": {
    "colab": {
     "base_uri": "https://localhost:8080/",
     "height": 262
    },
    "id": "3e3UFGAsgEU4",
    "outputId": "90aed9fb-a054-46ca-9683-1fa2bddf0324"
   },
   "outputs": [
    {
     "data": {
      "text/html": [
       "<div>\n",
       "<style scoped>\n",
       "    .dataframe tbody tr th:only-of-type {\n",
       "        vertical-align: middle;\n",
       "    }\n",
       "\n",
       "    .dataframe tbody tr th {\n",
       "        vertical-align: top;\n",
       "    }\n",
       "\n",
       "    .dataframe thead th {\n",
       "        text-align: right;\n",
       "    }\n",
       "</style>\n",
       "<table border=\"1\" class=\"dataframe\">\n",
       "  <thead>\n",
       "    <tr style=\"text-align: right;\">\n",
       "      <th></th>\n",
       "      <th>feature</th>\n",
       "      <th>vif_score</th>\n",
       "    </tr>\n",
       "  </thead>\n",
       "  <tbody>\n",
       "    <tr>\n",
       "      <th>1</th>\n",
       "      <td>univ_ranking</td>\n",
       "      <td>2.553664</td>\n",
       "    </tr>\n",
       "    <tr>\n",
       "      <th>2</th>\n",
       "      <td>motiv_letter_strength</td>\n",
       "      <td>2.811756</td>\n",
       "    </tr>\n",
       "    <tr>\n",
       "      <th>3</th>\n",
       "      <td>recommendation_strength</td>\n",
       "      <td>2.148793</td>\n",
       "    </tr>\n",
       "    <tr>\n",
       "      <th>4</th>\n",
       "      <td>gpa</td>\n",
       "      <td>2.646828</td>\n",
       "    </tr>\n",
       "    <tr>\n",
       "      <th>5</th>\n",
       "      <td>research_exp</td>\n",
       "      <td>1.388674</td>\n",
       "    </tr>\n",
       "  </tbody>\n",
       "</table>\n",
       "</div>"
      ],
      "text/plain": [
       "                   feature  vif_score\n",
       "1             univ_ranking   2.553664\n",
       "2    motiv_letter_strength   2.811756\n",
       "3  recommendation_strength   2.148793\n",
       "4                      gpa   2.646828\n",
       "5             research_exp   1.388674"
      ]
     },
     "execution_count": 69,
     "metadata": {},
     "output_type": "execute_result"
    }
   ],
   "source": [
    "from statsmodels.stats.outliers_influence import variance_inflation_factor as vif \n",
    "from statsmodels.tools.tools import add_constant\n",
    "\n",
    "X = add_constant(feature_admit_train)\n",
    "\n",
    "vif_df = pd.DataFrame([vif(X.values, i) \n",
    "               for i in range(X.shape[1])], \n",
    "              index=X.columns).reset_index()\n",
    "vif_df.columns = ['feature','vif_score']\n",
    "vif_df = vif_df.loc[vif_df.feature!='const']\n",
    "vif_df"
   ]
  },
  {
   "cell_type": "markdown",
   "metadata": {
    "id": "SfoYKXpagMke"
   },
   "source": [
    "Good!"
   ]
  },
  {
   "cell_type": "markdown",
   "metadata": {
    "id": "F0EWKWOfgNnK"
   },
   "source": [
    "## Model Training"
   ]
  },
  {
   "cell_type": "code",
   "execution_count": 70,
   "metadata": {
    "colab": {
     "base_uri": "https://localhost:8080/"
    },
    "id": "bvqhoVJkdqDI",
    "outputId": "efb85321-b2b0-46c5-ba3c-e432af2ee3bb"
   },
   "outputs": [
    {
     "data": {
      "text/html": [
       "<style>#sk-container-id-1 {color: black;background-color: white;}#sk-container-id-1 pre{padding: 0;}#sk-container-id-1 div.sk-toggleable {background-color: white;}#sk-container-id-1 label.sk-toggleable__label {cursor: pointer;display: block;width: 100%;margin-bottom: 0;padding: 0.3em;box-sizing: border-box;text-align: center;}#sk-container-id-1 label.sk-toggleable__label-arrow:before {content: \"▸\";float: left;margin-right: 0.25em;color: #696969;}#sk-container-id-1 label.sk-toggleable__label-arrow:hover:before {color: black;}#sk-container-id-1 div.sk-estimator:hover label.sk-toggleable__label-arrow:before {color: black;}#sk-container-id-1 div.sk-toggleable__content {max-height: 0;max-width: 0;overflow: hidden;text-align: left;background-color: #f0f8ff;}#sk-container-id-1 div.sk-toggleable__content pre {margin: 0.2em;color: black;border-radius: 0.25em;background-color: #f0f8ff;}#sk-container-id-1 input.sk-toggleable__control:checked~div.sk-toggleable__content {max-height: 200px;max-width: 100%;overflow: auto;}#sk-container-id-1 input.sk-toggleable__control:checked~label.sk-toggleable__label-arrow:before {content: \"▾\";}#sk-container-id-1 div.sk-estimator input.sk-toggleable__control:checked~label.sk-toggleable__label {background-color: #d4ebff;}#sk-container-id-1 div.sk-label input.sk-toggleable__control:checked~label.sk-toggleable__label {background-color: #d4ebff;}#sk-container-id-1 input.sk-hidden--visually {border: 0;clip: rect(1px 1px 1px 1px);clip: rect(1px, 1px, 1px, 1px);height: 1px;margin: -1px;overflow: hidden;padding: 0;position: absolute;width: 1px;}#sk-container-id-1 div.sk-estimator {font-family: monospace;background-color: #f0f8ff;border: 1px dotted black;border-radius: 0.25em;box-sizing: border-box;margin-bottom: 0.5em;}#sk-container-id-1 div.sk-estimator:hover {background-color: #d4ebff;}#sk-container-id-1 div.sk-parallel-item::after {content: \"\";width: 100%;border-bottom: 1px solid gray;flex-grow: 1;}#sk-container-id-1 div.sk-label:hover label.sk-toggleable__label {background-color: #d4ebff;}#sk-container-id-1 div.sk-serial::before {content: \"\";position: absolute;border-left: 1px solid gray;box-sizing: border-box;top: 0;bottom: 0;left: 50%;z-index: 0;}#sk-container-id-1 div.sk-serial {display: flex;flex-direction: column;align-items: center;background-color: white;padding-right: 0.2em;padding-left: 0.2em;position: relative;}#sk-container-id-1 div.sk-item {position: relative;z-index: 1;}#sk-container-id-1 div.sk-parallel {display: flex;align-items: stretch;justify-content: center;background-color: white;position: relative;}#sk-container-id-1 div.sk-item::before, #sk-container-id-1 div.sk-parallel-item::before {content: \"\";position: absolute;border-left: 1px solid gray;box-sizing: border-box;top: 0;bottom: 0;left: 50%;z-index: -1;}#sk-container-id-1 div.sk-parallel-item {display: flex;flex-direction: column;z-index: 1;position: relative;background-color: white;}#sk-container-id-1 div.sk-parallel-item:first-child::after {align-self: flex-end;width: 50%;}#sk-container-id-1 div.sk-parallel-item:last-child::after {align-self: flex-start;width: 50%;}#sk-container-id-1 div.sk-parallel-item:only-child::after {width: 0;}#sk-container-id-1 div.sk-dashed-wrapped {border: 1px dashed gray;margin: 0 0.4em 0.5em 0.4em;box-sizing: border-box;padding-bottom: 0.4em;background-color: white;}#sk-container-id-1 div.sk-label label {font-family: monospace;font-weight: bold;display: inline-block;line-height: 1.2em;}#sk-container-id-1 div.sk-label-container {text-align: center;}#sk-container-id-1 div.sk-container {/* jupyter's `normalize.less` sets `[hidden] { display: none; }` but bootstrap.min.css set `[hidden] { display: none !important; }` so we also need the `!important` here to be able to override the default hidden behavior on the sphinx rendered scikit-learn.org. See: https://github.com/scikit-learn/scikit-learn/issues/21755 */display: inline-block !important;position: relative;}#sk-container-id-1 div.sk-text-repr-fallback {display: none;}</style><div id=\"sk-container-id-1\" class=\"sk-top-container\"><div class=\"sk-text-repr-fallback\"><pre>LinearRegression()</pre><b>In a Jupyter environment, please rerun this cell to show the HTML representation or trust the notebook. <br />On GitHub, the HTML representation is unable to render, please try loading this page with nbviewer.org.</b></div><div class=\"sk-container\" hidden><div class=\"sk-item\"><div class=\"sk-estimator sk-toggleable\"><input class=\"sk-toggleable__control sk-hidden--visually\" id=\"sk-estimator-id-1\" type=\"checkbox\" checked><label for=\"sk-estimator-id-1\" class=\"sk-toggleable__label sk-toggleable__label-arrow\">LinearRegression</label><div class=\"sk-toggleable__content\"><pre>LinearRegression()</pre></div></div></div></div></div>"
      ],
      "text/plain": [
       "LinearRegression()"
      ]
     },
     "execution_count": 70,
     "metadata": {},
     "output_type": "execute_result"
    }
   ],
   "source": [
    "from sklearn.linear_model import LinearRegression\n",
    "\n",
    "# define the model\n",
    "multi_reg = LinearRegression()\n",
    "\n",
    "# train the model\n",
    "X_admit_train = feature_admit_train.to_numpy()\n",
    "y_admit_train = target_admit_train.to_numpy()\n",
    "\n",
    "multi_reg.fit(X_admit_train, y_admit_train)"
   ]
  },
  {
   "cell_type": "code",
   "execution_count": 71,
   "metadata": {
    "colab": {
     "base_uri": "https://localhost:8080/",
     "height": 238
    },
    "id": "lbRscGr9dqDJ",
    "outputId": "f74f1168-c28f-4e69-a98d-1c5cc106311b"
   },
   "outputs": [
    {
     "data": {
      "text/html": [
       "<div>\n",
       "<style scoped>\n",
       "    .dataframe tbody tr th:only-of-type {\n",
       "        vertical-align: middle;\n",
       "    }\n",
       "\n",
       "    .dataframe tbody tr th {\n",
       "        vertical-align: top;\n",
       "    }\n",
       "\n",
       "    .dataframe thead th {\n",
       "        text-align: right;\n",
       "    }\n",
       "</style>\n",
       "<table border=\"1\" class=\"dataframe\">\n",
       "  <thead>\n",
       "    <tr style=\"text-align: right;\">\n",
       "      <th></th>\n",
       "      <th>feature</th>\n",
       "      <th>coefficient</th>\n",
       "    </tr>\n",
       "  </thead>\n",
       "  <tbody>\n",
       "    <tr>\n",
       "      <th>0</th>\n",
       "      <td>intercept</td>\n",
       "      <td>-0.744196</td>\n",
       "    </tr>\n",
       "    <tr>\n",
       "      <th>1</th>\n",
       "      <td>univ_ranking</td>\n",
       "      <td>0.012826</td>\n",
       "    </tr>\n",
       "    <tr>\n",
       "      <th>2</th>\n",
       "      <td>motiv_letter_strength</td>\n",
       "      <td>0.002837</td>\n",
       "    </tr>\n",
       "    <tr>\n",
       "      <th>3</th>\n",
       "      <td>recommendation_strength</td>\n",
       "      <td>0.014235</td>\n",
       "    </tr>\n",
       "    <tr>\n",
       "      <th>4</th>\n",
       "      <td>gpa</td>\n",
       "      <td>0.157569</td>\n",
       "    </tr>\n",
       "    <tr>\n",
       "      <th>5</th>\n",
       "      <td>research_exp</td>\n",
       "      <td>0.029326</td>\n",
       "    </tr>\n",
       "  </tbody>\n",
       "</table>\n",
       "</div>"
      ],
      "text/plain": [
       "                   feature  coefficient\n",
       "0                intercept    -0.744196\n",
       "1             univ_ranking     0.012826\n",
       "2    motiv_letter_strength     0.002837\n",
       "3  recommendation_strength     0.014235\n",
       "4                      gpa     0.157569\n",
       "5             research_exp     0.029326"
      ]
     },
     "execution_count": 71,
     "metadata": {},
     "output_type": "execute_result"
    }
   ],
   "source": [
    "# retrieve the coefficients\n",
    "# show as a nice dataframe\n",
    "\n",
    "data = feature_admit_train\n",
    "model = multi_reg\n",
    "\n",
    "coef_df = pd.DataFrame({\n",
    "    'feature':['intercept'] + data.columns.tolist(),\n",
    "    'coefficient':[model.intercept_[0]] + list(model.coef_[0])\n",
    "})\n",
    "\n",
    "coef_df"
   ]
  },
  {
   "cell_type": "markdown",
   "metadata": {
    "id": "a4a5NUkkeHm5"
   },
   "source": [
    "Sample coeff interpretation:"
   ]
  },
  {
   "cell_type": "markdown",
   "metadata": {
    "id": "a4a5NUkkeHm5"
   },
   "source": [
    "An increase of 1 point in GPA, while the other features are kept fixed, is associated with an increase of 0.161 point in admit_prob"
   ]
  },
  {
   "cell_type": "markdown",
   "metadata": {
    "id": "a4a5NUkkeHm5"
   },
   "source": [
    "## Model Diagnostic"
   ]
  },
  {
   "cell_type": "code",
   "execution_count": 78,
   "metadata": {
    "colab": {
     "base_uri": "https://localhost:8080/",
     "height": 282
    },
    "id": "nSsm-rHhd1Ro",
    "outputId": "90e00e59-226e-4a25-814c-fd7ef1907e8f"
   },
   "outputs": [
    {
     "data": {
      "image/png": "[encoded data removed]",
      "text/plain": [
       "<Figure size 432x288 with 1 Axes>"
      ]
     },
     "metadata": {
      "needs_background": "light"
     },
     "output_type": "display_data"
    }
   ],
   "source": [
    "# calculate residuals\n",
    "y_predict_train = multi_reg.predict(X_admit_train)\n",
    "residual = y_admit_train - y_predict_train\n",
    "\n",
    "#preprocess shape\n",
    "y_predict_train = np.array([value for nested_array in y_predict_train for value in nested_array])\n",
    "residual = np.array([value for nested_array in residual for value in nested_array])\n",
    "\n",
    "# prepare dataframe\n",
    "# >1 predictor --> predicted value VS residual\n",
    "df_resid = pd.DataFrame({\n",
    "    'x_axis': y_predict_train,\n",
    "    'residual': residual\n",
    "})\n",
    "\n",
    "# residual plot\n",
    "sns.scatterplot(data=df_resid, x=\"x_axis\", y=\"residual\")\n",
    "plt.axhline(0)\n",
    "plt.show()\n"
   ]
  },
  {
   "cell_type": "markdown",
   "metadata": {
    "colab": {
     "base_uri": "https://localhost:8080/",
     "height": 279
    },
    "id": "F0X0idW9e1Hx",
    "outputId": "b3ec4351-eaad-4648-c6d3-55529a7cbff8"
   },
   "source": [
    "- Linear relationship\n",
    "- No constant variance\n",
    "- Independent observations"
   ]
  },
  {
   "cell_type": "code",
   "execution_count": 79,
   "metadata": {
    "colab": {
     "base_uri": "https://localhost:8080/",
     "height": 279
    },
    "id": "F0X0idW9e1Hx",
    "outputId": "b3ec4351-eaad-4648-c6d3-55529a7cbff8"
   },
   "outputs": [
    {
     "data": {
      "image/png": "[encoded data removed]",
      "text/plain": [
       "<Figure size 432x288 with 1 Axes>"
      ]
     },
     "metadata": {
      "needs_background": "light"
     },
     "output_type": "display_data"
    }
   ],
   "source": [
    "# QQplot\n",
    "from sklearn.preprocessing import StandardScaler\n",
    "\n",
    "std_resid = StandardScaler().fit_transform(residual.reshape(-1,1))\n",
    "std_resid = np.array([value for nested_array in std_resid for value in nested_array])\n",
    "\n",
    "import statsmodels.api as sm\n",
    "sm.qqplot(std_resid, line='45')\n",
    "plt.show()"
   ]
  },
  {
   "cell_type": "markdown",
   "metadata": {
    "id": "7xdEhfzIf-c2"
   },
   "source": [
    "Normal"
   ]
  },
  {
   "cell_type": "markdown",
   "metadata": {
    "id": "7xdEhfzIf-c2"
   },
   "source": [
    "## Model Evaluation"
   ]
  },
  {
   "cell_type": "markdown",
   "metadata": {
    "id": "rVTlEJqigqs3"
   },
   "source": [
    "### Training Error"
   ]
  },
  {
   "cell_type": "code",
   "execution_count": 74,
   "metadata": {
    "colab": {
     "base_uri": "https://localhost:8080/"
    },
    "id": "LPmFz8JwhHDF",
    "outputId": "d3a9afac-b38d-4bcb-a9c0-5e525115d1ae"
   },
   "outputs": [
    {
     "name": "stdout",
     "output_type": "stream",
     "text": [
      "R-squared for training data is 0.7445463975296229\n",
      "RMSE for training data is 0.06251707268033031\n"
     ]
    }
   ],
   "source": [
    "from sklearn.metrics import r2_score\n",
    "from sklearn.metrics import mean_squared_error\n",
    "\n",
    "print('R-squared for training data is {}'.format(r2_score(y_predict_train, y_admit_train)))\n",
    "print('RMSE for training data is {}'.format(np.sqrt(mean_squared_error(y_predict_train, y_admit_train))))"
   ]
  },
  {
   "cell_type": "markdown",
   "metadata": {
    "id": "ULt9B-MjiKUn"
   },
   "source": [
    "R2 score measures portion of variability of the target variable that is successfully explained (modelled) by the features included in the model\n",
    "- The higher == the better"
   ]
  },
  {
   "cell_type": "markdown",
   "metadata": {
    "id": "ULt9B-MjiKUn"
   },
   "source": [
    "Interpretation: 79.86% of variability of admit_prob is successfully explained\n",
    "using all the features in the model"
   ]
  },
  {
   "cell_type": "markdown",
   "metadata": {
    "id": "ULt9B-MjiKUn"
   },
   "source": [
    "### Testing Error"
   ]
  },
  {
   "cell_type": "code",
   "execution_count": 81,
   "metadata": {
    "id": "8oxKg8VJiE-y"
   },
   "outputs": [],
   "source": [
    "# prepare prediction result on test data\n",
    "X_admit_test = feature_admit_test.to_numpy()\n",
    "y_predict_test = multi_reg.predict(X_admit_test)\n",
    "\n",
    "# ground truth target\n",
    "y_admit_test = target_admit_test.to_numpy()"
   ]
  },
  {
   "cell_type": "code",
   "execution_count": 82,
   "metadata": {
    "colab": {
     "base_uri": "https://localhost:8080/"
    },
    "id": "LXMFczSoilEH",
    "outputId": "e56d2354-9d27-438f-abe8-26146305ab28"
   },
   "outputs": [
    {
     "name": "stdout",
     "output_type": "stream",
     "text": [
      "RMSE for testing data is 0.06732390009433725\n"
     ]
    }
   ],
   "source": [
    "from sklearn.metrics import mean_squared_error\n",
    "\n",
    "print('RMSE for testing data is {}'.format(np.sqrt(mean_squared_error(y_predict_test, y_admit_test))))"
   ]
  },
  {
   "cell_type": "markdown",
   "metadata": {},
   "source": [
    "○ The standard deviation of prediction errors is 0.0567 which means that from the regression line, the residuals mostly deviate between +- 0.058"
   ]
  },
  {
   "cell_type": "code",
   "execution_count": null,
   "metadata": {},
   "outputs": [],
   "source": []
  }
 ],
 "metadata": {
  "colab": {
   "authorship_tag": "ABX9TyM3WOHgucMdeFnORQwApwKY",
   "collapsed_sections": [],
   "name": "Dibimbing - Exploratory Data Analysis I with Python.ipynb",
   "provenance": []
  },
  "kernelspec": {
   "display_name": "Python 3 (ipykernel)",
   "language": "python",
   "name": "python3"
  },
  "language_info": {
   "codemirror_mode": {
    "name": "ipython",
    "version": 3
   },
   "file_extension": ".py",
   "mimetype": "text/x-python",
   "name": "python",
   "nbconvert_exporter": "python",
   "pygments_lexer": "ipython3",
   "version": "3.9.0"
  }
 },
 "nbformat": 4,
 "nbformat_minor": 4
}
